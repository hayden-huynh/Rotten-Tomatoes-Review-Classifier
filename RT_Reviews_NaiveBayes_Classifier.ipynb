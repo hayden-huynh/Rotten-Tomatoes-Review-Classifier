{
  "nbformat": 4,
  "nbformat_minor": 0,
  "metadata": {
    "colab": {
      "provenance": [],
      "toc_visible": true,
      "mount_file_id": "1Tdr3KkQh1eHnVV-Urozb1278pv-4AeKg",
      "authorship_tag": "ABX9TyOU+wlfKfNQHApdB2dopusu",
      "include_colab_link": true
    },
    "kernelspec": {
      "name": "python3",
      "display_name": "Python 3"
    },
    "language_info": {
      "name": "python"
    },
    "gpuClass": "standard"
  },
  "cells": [
    {
      "cell_type": "markdown",
      "metadata": {
        "id": "view-in-github",
        "colab_type": "text"
      },
      "source": [
        "<a href=\"https://colab.research.google.com/github/hayden-huynh/Rotten-Tomatoes-Review-Classifier/blob/master/RT_Reviews_NaiveBayes_Classifier.ipynb\" target=\"_parent\"><img src=\"https://colab.research.google.com/assets/colab-badge.svg\" alt=\"Open In Colab\"/></a>"
      ]
    },
    {
      "cell_type": "markdown",
      "source": [
        "# Assignment Process"
      ],
      "metadata": {
        "id": "s0NCiDbRKgnL"
      }
    },
    {
      "cell_type": "markdown",
      "source": [
        "1. Download the Rotten Tomatoes Reviews [dataset](https://www.kaggle.com/datasets/ulrikthygepedersen/rotten-tomatoes-reviews)\n",
        "2. Text data pre-processing:\n",
        "  - Lower-casing\n",
        "  - Punctuation Removal\n",
        "  - Tokenization\n",
        "3. Split the original dataset into smaller *train* (70%), *dev* (10%), and *test* (20%) datasets\n",
        "4. Train the classifier using *train* dataset\n",
        "  - Calculate and store P(fresh) and P(rotten) priors\n",
        "  - Calculate and store likelihoods of words\n",
        "5. Improve the classifier using *dev* dataset\n",
        "  - Smoothing\n",
        "  - Normal Probability vs Log Probability\n",
        "  - Stemming and Lemmatization (?)\n",
        "6. Test accuracy of the classifier using *test* dataset "
      ],
      "metadata": {
        "id": "qP5EK7aoK022"
      }
    },
    {
      "cell_type": "markdown",
      "source": [
        "# Download Dataset from Kaggle"
      ],
      "metadata": {
        "id": "ITGWYwb3Mw3n"
      }
    },
    {
      "cell_type": "code",
      "source": [
        "# Download the Rotten Tomatoes Reviews dataset from Kaggle\n",
        "# Reference 1 (Ref 1): https://www.analyticsvidhya.com/blog/2021/06/how-to-load-kaggle-datasets-directly-into-google-colab/\n",
        "\n",
        "# Ref 1 starts =====\n",
        "! pip install kaggle\n",
        "! mkdir ~/.kaggle\n",
        "! cp /content/drive/MyDrive/kaggle.json ~/.kaggle/\n",
        "! chmod 600 ~/.kaggle/kaggle.json\n",
        "! kaggle datasets download ulrikthygepedersen/rotten-tomatoes-reviews\n",
        "! unzip rotten-tomatoes-reviews.zip\n",
        "# ===== Ref 1 ends"
      ],
      "metadata": {
        "id": "GF-mv6wrLHSQ"
      },
      "execution_count": null,
      "outputs": []
    },
    {
      "cell_type": "markdown",
      "source": [
        "# Text Pre-processing"
      ],
      "metadata": {
        "id": "ge7uGOzb7cyT"
      }
    },
    {
      "cell_type": "code",
      "source": [
        "# Reference 2 (Ref 2): https://www.analyticsvidhya.com/blog/2021/06/text-preprocessing-in-nlp-with-python-codes/\n",
        "import pandas as pd\n",
        "import numpy as np\n",
        "import string\n",
        "import re\n",
        "\n",
        "reviews = pd.read_csv(\"/content/rt_reviews.csv\", encoding=\"latin-1\")\n",
        "\n",
        "print(\"----- Samples -----\")\n",
        "print(reviews.head(5))\n",
        "\n",
        "print(\"\\n----- Summary -----\")\n",
        "print(reviews.describe())"
      ],
      "metadata": {
        "colab": {
          "base_uri": "https://localhost:8080/"
        },
        "id": "p6l8UQu37cF-",
        "outputId": "443c67d8-d292-4447-aaa4-3539a31170d9"
      },
      "execution_count": 2,
      "outputs": [
        {
          "output_type": "stream",
          "name": "stdout",
          "text": [
            "----- Samples -----\n",
            "  Freshness                                             Review\n",
            "0     fresh   Manakamana doesn't answer any questions, yet ...\n",
            "1     fresh   Wilfully offensive and powered by a chest-thu...\n",
            "2    rotten   It would be difficult to imagine material mor...\n",
            "3    rotten   Despite the gusto its star brings to the role...\n",
            "4    rotten   If there was a good idea at the core of this ...\n",
            "\n",
            "----- Summary -----\n",
            "       Freshness                    Review\n",
            "count     480000                    480000\n",
            "unique         2                    339697\n",
            "top        fresh   Parental Content Review\n",
            "freq      240000                       166\n"
          ]
        }
      ]
    },
    {
      "cell_type": "code",
      "source": [
        "# Lower-case all words\n",
        "reviews[\"Review_lower\"] = reviews[\"Review\"].apply(lambda r: r.lower())\n",
        "\n",
        "# Remove Punctuations\n",
        "def remove_punctuations(text):\n",
        "  punc_free = \"\".join([char for char in text if char not in string.punctuation])\n",
        "  return punc_free\n",
        "\n",
        "reviews[\"Review_clean\"] = reviews[\"Review_lower\"].apply(lambda r: remove_punctuations(r))\n",
        "\n",
        "# Tokenizing and Removing Duplicate Words\n",
        "def tokenize(text):\n",
        "  tokens = re.split(\"\\W+\", text)\n",
        "  tokens = list(filter(None, tokens))\n",
        "  return sorted(list(set(tokens)))\n",
        "\n",
        "reviews[\"Review_tokens\"] = reviews[\"Review_clean\"].apply(lambda r: tokenize(r))\n",
        "\n",
        "reviews.sample(5)"
      ],
      "metadata": {
        "colab": {
          "base_uri": "https://localhost:8080/",
          "height": 913
        },
        "id": "jmmTfKN08SXA",
        "outputId": "c1f3cd9b-c99b-404a-9e1d-1ebee3e25bf2"
      },
      "execution_count": 3,
      "outputs": [
        {
          "output_type": "execute_result",
          "data": {
            "text/plain": [
              "       Freshness                                             Review  \\\n",
              "215572    rotten   Feels like a half-hearted jumble, full of laz...   \n",
              "299383    rotten   If it was free, perhaps fans wouldn't judge i...   \n",
              "324962     fresh   The kind of film that works on you while you'...   \n",
              "44361     rotten   The jokes are tasteless (far too many of them...   \n",
              "360292     fresh   There's little doubt that Ocean's Eight comes...   \n",
              "\n",
              "                                             Review_lower  \\\n",
              "215572   feels like a half-hearted jumble, full of laz...   \n",
              "299383   if it was free, perhaps fans wouldn't judge i...   \n",
              "324962   the kind of film that works on you while you'...   \n",
              "44361    the jokes are tasteless (far too many of them...   \n",
              "360292   there's little doubt that ocean's eight comes...   \n",
              "\n",
              "                                             Review_clean  \\\n",
              "215572   feels like a halfhearted jumble full of lazy ...   \n",
              "299383   if it was free perhaps fans wouldnt judge it ...   \n",
              "324962   the kind of film that works on you while your...   \n",
              "44361    the jokes are tasteless far too many of them ...   \n",
              "360292   theres little doubt that oceans eight comes o...   \n",
              "\n",
              "                                            Review_tokens  \n",
              "215572  [a, feels, full, halfhearted, jumble, lazy, li...  \n",
              "299383  [able, also, be, change, channel, fans, free, ...  \n",
              "324962  [a, afterwards, but, dessert, ever, feeling, f...  \n",
              "44361   [about, and, are, around, as, being, by, colle...  \n",
              "360292  [a, and, as, comes, doubt, eight, endeavor, er...  "
            ],
            "text/html": [
              "\n",
              "  <div id=\"df-3ee69c4c-cfd3-46f0-b71c-c252b8d74f03\">\n",
              "    <div class=\"colab-df-container\">\n",
              "      <div>\n",
              "<style scoped>\n",
              "    .dataframe tbody tr th:only-of-type {\n",
              "        vertical-align: middle;\n",
              "    }\n",
              "\n",
              "    .dataframe tbody tr th {\n",
              "        vertical-align: top;\n",
              "    }\n",
              "\n",
              "    .dataframe thead th {\n",
              "        text-align: right;\n",
              "    }\n",
              "</style>\n",
              "<table border=\"1\" class=\"dataframe\">\n",
              "  <thead>\n",
              "    <tr style=\"text-align: right;\">\n",
              "      <th></th>\n",
              "      <th>Freshness</th>\n",
              "      <th>Review</th>\n",
              "      <th>Review_lower</th>\n",
              "      <th>Review_clean</th>\n",
              "      <th>Review_tokens</th>\n",
              "    </tr>\n",
              "  </thead>\n",
              "  <tbody>\n",
              "    <tr>\n",
              "      <th>215572</th>\n",
              "      <td>rotten</td>\n",
              "      <td>Feels like a half-hearted jumble, full of laz...</td>\n",
              "      <td>feels like a half-hearted jumble, full of laz...</td>\n",
              "      <td>feels like a halfhearted jumble full of lazy ...</td>\n",
              "      <td>[a, feels, full, halfhearted, jumble, lazy, li...</td>\n",
              "    </tr>\n",
              "    <tr>\n",
              "      <th>299383</th>\n",
              "      <td>rotten</td>\n",
              "      <td>If it was free, perhaps fans wouldn't judge i...</td>\n",
              "      <td>if it was free, perhaps fans wouldn't judge i...</td>\n",
              "      <td>if it was free perhaps fans wouldnt judge it ...</td>\n",
              "      <td>[able, also, be, change, channel, fans, free, ...</td>\n",
              "    </tr>\n",
              "    <tr>\n",
              "      <th>324962</th>\n",
              "      <td>fresh</td>\n",
              "      <td>The kind of film that works on you while you'...</td>\n",
              "      <td>the kind of film that works on you while you'...</td>\n",
              "      <td>the kind of film that works on you while your...</td>\n",
              "      <td>[a, afterwards, but, dessert, ever, feeling, f...</td>\n",
              "    </tr>\n",
              "    <tr>\n",
              "      <th>44361</th>\n",
              "      <td>rotten</td>\n",
              "      <td>The jokes are tasteless (far too many of them...</td>\n",
              "      <td>the jokes are tasteless (far too many of them...</td>\n",
              "      <td>the jokes are tasteless far too many of them ...</td>\n",
              "      <td>[about, and, are, around, as, being, by, colle...</td>\n",
              "    </tr>\n",
              "    <tr>\n",
              "      <th>360292</th>\n",
              "      <td>fresh</td>\n",
              "      <td>There's little doubt that Ocean's Eight comes...</td>\n",
              "      <td>there's little doubt that ocean's eight comes...</td>\n",
              "      <td>theres little doubt that oceans eight comes o...</td>\n",
              "      <td>[a, and, as, comes, doubt, eight, endeavor, er...</td>\n",
              "    </tr>\n",
              "  </tbody>\n",
              "</table>\n",
              "</div>\n",
              "      <button class=\"colab-df-convert\" onclick=\"convertToInteractive('df-3ee69c4c-cfd3-46f0-b71c-c252b8d74f03')\"\n",
              "              title=\"Convert this dataframe to an interactive table.\"\n",
              "              style=\"display:none;\">\n",
              "        \n",
              "  <svg xmlns=\"http://www.w3.org/2000/svg\" height=\"24px\"viewBox=\"0 0 24 24\"\n",
              "       width=\"24px\">\n",
              "    <path d=\"M0 0h24v24H0V0z\" fill=\"none\"/>\n",
              "    <path d=\"M18.56 5.44l.94 2.06.94-2.06 2.06-.94-2.06-.94-.94-2.06-.94 2.06-2.06.94zm-11 1L8.5 8.5l.94-2.06 2.06-.94-2.06-.94L8.5 2.5l-.94 2.06-2.06.94zm10 10l.94 2.06.94-2.06 2.06-.94-2.06-.94-.94-2.06-.94 2.06-2.06.94z\"/><path d=\"M17.41 7.96l-1.37-1.37c-.4-.4-.92-.59-1.43-.59-.52 0-1.04.2-1.43.59L10.3 9.45l-7.72 7.72c-.78.78-.78 2.05 0 2.83L4 21.41c.39.39.9.59 1.41.59.51 0 1.02-.2 1.41-.59l7.78-7.78 2.81-2.81c.8-.78.8-2.07 0-2.86zM5.41 20L4 18.59l7.72-7.72 1.47 1.35L5.41 20z\"/>\n",
              "  </svg>\n",
              "      </button>\n",
              "      \n",
              "  <style>\n",
              "    .colab-df-container {\n",
              "      display:flex;\n",
              "      flex-wrap:wrap;\n",
              "      gap: 12px;\n",
              "    }\n",
              "\n",
              "    .colab-df-convert {\n",
              "      background-color: #E8F0FE;\n",
              "      border: none;\n",
              "      border-radius: 50%;\n",
              "      cursor: pointer;\n",
              "      display: none;\n",
              "      fill: #1967D2;\n",
              "      height: 32px;\n",
              "      padding: 0 0 0 0;\n",
              "      width: 32px;\n",
              "    }\n",
              "\n",
              "    .colab-df-convert:hover {\n",
              "      background-color: #E2EBFA;\n",
              "      box-shadow: 0px 1px 2px rgba(60, 64, 67, 0.3), 0px 1px 3px 1px rgba(60, 64, 67, 0.15);\n",
              "      fill: #174EA6;\n",
              "    }\n",
              "\n",
              "    [theme=dark] .colab-df-convert {\n",
              "      background-color: #3B4455;\n",
              "      fill: #D2E3FC;\n",
              "    }\n",
              "\n",
              "    [theme=dark] .colab-df-convert:hover {\n",
              "      background-color: #434B5C;\n",
              "      box-shadow: 0px 1px 3px 1px rgba(0, 0, 0, 0.15);\n",
              "      filter: drop-shadow(0px 1px 2px rgba(0, 0, 0, 0.3));\n",
              "      fill: #FFFFFF;\n",
              "    }\n",
              "  </style>\n",
              "\n",
              "      <script>\n",
              "        const buttonEl =\n",
              "          document.querySelector('#df-3ee69c4c-cfd3-46f0-b71c-c252b8d74f03 button.colab-df-convert');\n",
              "        buttonEl.style.display =\n",
              "          google.colab.kernel.accessAllowed ? 'block' : 'none';\n",
              "\n",
              "        async function convertToInteractive(key) {\n",
              "          const element = document.querySelector('#df-3ee69c4c-cfd3-46f0-b71c-c252b8d74f03');\n",
              "          const dataTable =\n",
              "            await google.colab.kernel.invokeFunction('convertToInteractive',\n",
              "                                                     [key], {});\n",
              "          if (!dataTable) return;\n",
              "\n",
              "          const docLinkHtml = 'Like what you see? Visit the ' +\n",
              "            '<a target=\"_blank\" href=https://colab.research.google.com/notebooks/data_table.ipynb>data table notebook</a>'\n",
              "            + ' to learn more about interactive tables.';\n",
              "          element.innerHTML = '';\n",
              "          dataTable['output_type'] = 'display_data';\n",
              "          await google.colab.output.renderOutput(dataTable, element);\n",
              "          const docLink = document.createElement('div');\n",
              "          docLink.innerHTML = docLinkHtml;\n",
              "          element.appendChild(docLink);\n",
              "        }\n",
              "      </script>\n",
              "    </div>\n",
              "  </div>\n",
              "  "
            ]
          },
          "metadata": {},
          "execution_count": 3
        }
      ]
    },
    {
      "cell_type": "markdown",
      "source": [
        "# Split the Original Dataset"
      ],
      "metadata": {
        "id": "mYMdGlcqM2xb"
      }
    },
    {
      "cell_type": "code",
      "source": [
        "# Reference 3 (Ref 3): https://stackoverflow.com/questions/43777243/how-to-split-a-dataframe-in-pandas-in-predefined-percentages \n",
        "\n",
        "# Ref 3 starts =====\n",
        "def split_by_fractions(df, fracs, random_state=1):\n",
        "    remain = df.index.copy().to_frame()\n",
        "    res = []\n",
        "    for i in range(len(fracs)):\n",
        "        fractions_sum = sum(fracs[i:])\n",
        "        frac = fracs[i]/fractions_sum\n",
        "        idxs = remain.sample(frac=frac, random_state=random_state).index\n",
        "        remain=remain.drop(idxs)\n",
        "        res.append(idxs)\n",
        "    return [df.loc[idxs] for idxs in res]\n",
        "# Ref 3 ends =====\n",
        "\n",
        "train, dev, test = split_by_fractions(reviews, [0.7, 0.1, 0.2])\n",
        "print(train.shape, dev.shape, test.shape)"
      ],
      "metadata": {
        "colab": {
          "base_uri": "https://localhost:8080/"
        },
        "id": "2zt9wPa0NELt",
        "outputId": "75e9f34a-cb8b-4303-d099-768e69478460"
      },
      "execution_count": 4,
      "outputs": [
        {
          "output_type": "stream",
          "name": "stdout",
          "text": [
            "(336000, 5) (48000, 5) (96000, 5)\n"
          ]
        }
      ]
    },
    {
      "cell_type": "markdown",
      "source": [
        "# Training"
      ],
      "metadata": {
        "id": "Ae1dhZ5fv1xa"
      }
    },
    {
      "cell_type": "code",
      "source": [
        "import math\n",
        "\n",
        "train_fresh = train.loc[train[\"Freshness\"] == \"fresh\"]\n",
        "train_rotten = train.loc[train[\"Freshness\"] == \"rotten\"]\n",
        "\n",
        "# P(fresh) and P(rotten) priors\n",
        "p_fresh = len(train_fresh) / len(train)\n",
        "p_rotten = len(train_rotten) / len(train)"
      ],
      "metadata": {
        "id": "JOz9w1SrOt8I"
      },
      "execution_count": 15,
      "outputs": []
    },
    {
      "cell_type": "code",
      "source": [
        "# Count word occurences\n",
        "occ_fresh = {}\n",
        "occ_rotten = {}\n",
        "\n",
        "for words in train_fresh.loc[:,\"Review_tokens\"]:\n",
        "  for w in words:\n",
        "    if w not in occ_fresh.keys():\n",
        "      occ_fresh[w] = 1\n",
        "    else:\n",
        "      occ_fresh[w] += 1\n",
        "\n",
        "for words in train_rotten.loc[:,\"Review_tokens\"]:\n",
        "  for w in words:\n",
        "    if w not in occ_rotten.keys():\n",
        "      occ_rotten[w] = 1\n",
        "    else:\n",
        "      occ_rotten[w] += 1\n",
        "\n",
        "# Calculate word probabilities given fresh or rotten\n",
        "prob_fresh = {}\n",
        "prob_rotten = {}\n",
        "\n",
        "def calc_prob(alpha=0):\n",
        "  for word, count in occ_fresh.items():\n",
        "    prob_fresh[word] = (count + alpha) / (len(train_fresh) + alpha * len(occ_fresh.keys()))\n",
        "  \n",
        "  for word, count in occ_rotten.items():\n",
        "    prob_rotten[word] = (count + alpha) / (len(train_rotten) + alpha * len(occ_rotten.keys()))"
      ],
      "metadata": {
        "id": "NlZEAjmw9Gg7"
      },
      "execution_count": null,
      "outputs": []
    },
    {
      "cell_type": "markdown",
      "source": [
        "# Experimenting with *dev* dataset"
      ],
      "metadata": {
        "id": "OO9Y1-kVRHz2"
      }
    },
    {
      "cell_type": "code",
      "source": [],
      "metadata": {
        "id": "owvJOQIdD_h6"
      },
      "execution_count": null,
      "outputs": []
    },
    {
      "cell_type": "markdown",
      "source": [
        "# Final Accuracy with *test* dataset"
      ],
      "metadata": {
        "id": "xAHkH4UiRVzk"
      }
    },
    {
      "cell_type": "code",
      "source": [],
      "metadata": {
        "id": "YbeR39pwRZR8"
      },
      "execution_count": null,
      "outputs": []
    }
  ]
}