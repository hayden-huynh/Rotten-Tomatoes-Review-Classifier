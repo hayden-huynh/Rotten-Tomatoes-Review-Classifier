{
  "nbformat": 4,
  "nbformat_minor": 0,
  "metadata": {
    "colab": {
      "provenance": [],
      "mount_file_id": "1Tdr3KkQh1eHnVV-Urozb1278pv-4AeKg",
      "authorship_tag": "ABX9TyPtBw98tznCb+5MnVzzFLBk",
      "include_colab_link": true
    },
    "kernelspec": {
      "name": "python3",
      "display_name": "Python 3"
    },
    "language_info": {
      "name": "python"
    },
    "gpuClass": "standard"
  },
  "cells": [
    {
      "cell_type": "markdown",
      "metadata": {
        "id": "view-in-github",
        "colab_type": "text"
      },
      "source": [
        "<a href=\"https://colab.research.google.com/github/hayden-huynh/Rotton-Tomatoes-Review-Classifier/blob/master/RT_Reviews_NaiveBayes_Classifier.ipynb\" target=\"_parent\"><img src=\"https://colab.research.google.com/assets/colab-badge.svg\" alt=\"Open In Colab\"/></a>"
      ]
    },
    {
      "cell_type": "markdown",
      "source": [
        "# Assignment Process"
      ],
      "metadata": {
        "id": "s0NCiDbRKgnL"
      }
    },
    {
      "cell_type": "markdown",
      "source": [
        "1. Download the Rotten Tomatoes Reviews [dataset](https://www.kaggle.com/datasets/ulrikthygepedersen/rotten-tomatoes-reviews)\n",
        "2. Split the original dataset into smaller *train* (70%), *dev* (10%), and *test* (20%) datasets\n",
        "3. Train the classifier using *train* dataset\n",
        "4. Improve the classifier using *dev* dataset (?)\n",
        "5. Test accuracy of the classifier using *test* dataset "
      ],
      "metadata": {
        "id": "qP5EK7aoK022"
      }
    },
    {
      "cell_type": "markdown",
      "source": [
        "# Download Dataset from Kaggle"
      ],
      "metadata": {
        "id": "ITGWYwb3Mw3n"
      }
    },
    {
      "cell_type": "code",
      "source": [
        "# Download the Rotten Tomatoes Reviews dataset from Kaggle\n",
        "# Reference 1 (Ref 1): https://www.analyticsvidhya.com/blog/2021/06/how-to-load-kaggle-datasets-directly-into-google-colab/\n",
        "\n",
        "# Ref 1 starts =====\n",
        "! pip install kaggle\n",
        "! mkdir ~/.kaggle\n",
        "! cp /content/drive/MyDrive/kaggle.json ~/.kaggle/\n",
        "! chmod 600 ~/.kaggle/kaggle.json\n",
        "! kaggle datasets download ulrikthygepedersen/rotten-tomatoes-reviews\n",
        "! unzip rotten-tomatoes-reviews.zip\n",
        "# ===== Ref 1 ends"
      ],
      "metadata": {
        "id": "GF-mv6wrLHSQ"
      },
      "execution_count": null,
      "outputs": []
    },
    {
      "cell_type": "markdown",
      "source": [
        "# Split the Original Dataset"
      ],
      "metadata": {
        "id": "mYMdGlcqM2xb"
      }
    },
    {
      "cell_type": "code",
      "source": [
        "# Reference 2 (Ref 2): https://stackoverflow.com/questions/43777243/how-to-split-a-dataframe-in-pandas-in-predefined-percentages \n",
        "\n",
        "import pandas as pd\n",
        "import numpy as np\n",
        "\n",
        "reviews = pd.read_csv(\"/content/rt_reviews.csv\", encoding=\"latin-1\")\n",
        "\n",
        "print(\"----- Samples -----\")\n",
        "print(reviews.head(5))\n",
        "\n",
        "print(\"\\n----- Summary -----\")\n",
        "print(reviews.describe())"
      ],
      "metadata": {
        "colab": {
          "base_uri": "https://localhost:8080/"
        },
        "id": "2zt9wPa0NELt",
        "outputId": "28aef81b-5cd7-40da-fef4-cb6ad022ad00"
      },
      "execution_count": 10,
      "outputs": [
        {
          "output_type": "stream",
          "name": "stdout",
          "text": [
            "----- Samples -----\n",
            "  Freshness                                             Review\n",
            "0     fresh   Manakamana doesn't answer any questions, yet ...\n",
            "1     fresh   Wilfully offensive and powered by a chest-thu...\n",
            "2    rotten   It would be difficult to imagine material mor...\n",
            "3    rotten   Despite the gusto its star brings to the role...\n",
            "4    rotten   If there was a good idea at the core of this ...\n",
            "\n",
            "----- Summary -----\n",
            "       Freshness                    Review\n",
            "count     480000                    480000\n",
            "unique         2                    339697\n",
            "top        fresh   Parental Content Review\n",
            "freq      240000                       166\n",
            "(480000, 2)\n"
          ]
        }
      ]
    },
    {
      "cell_type": "code",
      "source": [
        "# Ref 2 starts =====\n",
        "def split_by_fractions(df, fracs, random_state=1):\n",
        "    remain = df.index.copy().to_frame()\n",
        "    res = []\n",
        "    for i in range(len(fracs)):\n",
        "        fractions_sum = sum(fracs[i:])\n",
        "        frac = fracs[i]/fractions_sum\n",
        "        idxs = remain.sample(frac=frac, random_state=random_state).index\n",
        "        remain=remain.drop(idxs)\n",
        "        res.append(idxs)\n",
        "    return [df.loc[idxs] for idxs in res]\n",
        "# Ref 2 ends =====\n",
        "\n",
        "train, dev, test = split_by_fractions(reviews, [0.7, 0.1, 0.2])\n",
        "print(train.shape, dev.shape, test.shape)"
      ],
      "metadata": {
        "colab": {
          "base_uri": "https://localhost:8080/"
        },
        "id": "W0EpzD0sPZZD",
        "outputId": "26386b00-b5b9-492e-f901-f2d4d9b6114d"
      },
      "execution_count": 11,
      "outputs": [
        {
          "output_type": "stream",
          "name": "stdout",
          "text": [
            "(336000, 2) (48000, 2) (96000, 2)\n"
          ]
        }
      ]
    },
    {
      "cell_type": "markdown",
      "source": [
        "# Training"
      ],
      "metadata": {
        "id": "Ae1dhZ5fv1xa"
      }
    },
    {
      "cell_type": "code",
      "source": [
        "train.loc[train[\"Freshness\"] == \"rotten\"]"
      ],
      "metadata": {
        "colab": {
          "base_uri": "https://localhost:8080/",
          "height": 419
        },
        "id": "GgJ48WWAu2CN",
        "outputId": "22392125-94af-4674-e1fd-0c2eec96be5e"
      },
      "execution_count": 32,
      "outputs": [
        {
          "output_type": "execute_result",
          "data": {
            "text/plain": [
              "       Freshness                                             Review\n",
              "77126     rotten   The script is packed with witty touches, but ...\n",
              "78882     rotten   After an opening-credits sequence of internet...\n",
              "469746    rotten   It's not a relationship we become invested in...\n",
              "146819    rotten   More of a curiosity than a cohesive sampling ...\n",
              "113113    rotten   Sadly the movie is a failure. [Full review in...\n",
              "...          ...                                                ...\n",
              "1839      rotten                                  Sabotages itself.\n",
              "157647    rotten   It could someday serve as a Y2K time capsule,...\n",
              "135753    rotten   The action sequences are decent; they just ar...\n",
              "384365    rotten   Enchanted isn't something to get worked up ov...\n",
              "85833     rotten   Christopher Nolan's latest exercise in devisi...\n",
              "\n",
              "[167714 rows x 2 columns]"
            ],
            "text/html": [
              "\n",
              "  <div id=\"df-db4cd0d8-4673-489c-a022-2f20d0ed3215\">\n",
              "    <div class=\"colab-df-container\">\n",
              "      <div>\n",
              "<style scoped>\n",
              "    .dataframe tbody tr th:only-of-type {\n",
              "        vertical-align: middle;\n",
              "    }\n",
              "\n",
              "    .dataframe tbody tr th {\n",
              "        vertical-align: top;\n",
              "    }\n",
              "\n",
              "    .dataframe thead th {\n",
              "        text-align: right;\n",
              "    }\n",
              "</style>\n",
              "<table border=\"1\" class=\"dataframe\">\n",
              "  <thead>\n",
              "    <tr style=\"text-align: right;\">\n",
              "      <th></th>\n",
              "      <th>Freshness</th>\n",
              "      <th>Review</th>\n",
              "    </tr>\n",
              "  </thead>\n",
              "  <tbody>\n",
              "    <tr>\n",
              "      <th>77126</th>\n",
              "      <td>rotten</td>\n",
              "      <td>The script is packed with witty touches, but ...</td>\n",
              "    </tr>\n",
              "    <tr>\n",
              "      <th>78882</th>\n",
              "      <td>rotten</td>\n",
              "      <td>After an opening-credits sequence of internet...</td>\n",
              "    </tr>\n",
              "    <tr>\n",
              "      <th>469746</th>\n",
              "      <td>rotten</td>\n",
              "      <td>It's not a relationship we become invested in...</td>\n",
              "    </tr>\n",
              "    <tr>\n",
              "      <th>146819</th>\n",
              "      <td>rotten</td>\n",
              "      <td>More of a curiosity than a cohesive sampling ...</td>\n",
              "    </tr>\n",
              "    <tr>\n",
              "      <th>113113</th>\n",
              "      <td>rotten</td>\n",
              "      <td>Sadly the movie is a failure. [Full review in...</td>\n",
              "    </tr>\n",
              "    <tr>\n",
              "      <th>...</th>\n",
              "      <td>...</td>\n",
              "      <td>...</td>\n",
              "    </tr>\n",
              "    <tr>\n",
              "      <th>1839</th>\n",
              "      <td>rotten</td>\n",
              "      <td>Sabotages itself.</td>\n",
              "    </tr>\n",
              "    <tr>\n",
              "      <th>157647</th>\n",
              "      <td>rotten</td>\n",
              "      <td>It could someday serve as a Y2K time capsule,...</td>\n",
              "    </tr>\n",
              "    <tr>\n",
              "      <th>135753</th>\n",
              "      <td>rotten</td>\n",
              "      <td>The action sequences are decent; they just ar...</td>\n",
              "    </tr>\n",
              "    <tr>\n",
              "      <th>384365</th>\n",
              "      <td>rotten</td>\n",
              "      <td>Enchanted isn't something to get worked up ov...</td>\n",
              "    </tr>\n",
              "    <tr>\n",
              "      <th>85833</th>\n",
              "      <td>rotten</td>\n",
              "      <td>Christopher Nolan's latest exercise in devisi...</td>\n",
              "    </tr>\n",
              "  </tbody>\n",
              "</table>\n",
              "<p>167714 rows × 2 columns</p>\n",
              "</div>\n",
              "      <button class=\"colab-df-convert\" onclick=\"convertToInteractive('df-db4cd0d8-4673-489c-a022-2f20d0ed3215')\"\n",
              "              title=\"Convert this dataframe to an interactive table.\"\n",
              "              style=\"display:none;\">\n",
              "        \n",
              "  <svg xmlns=\"http://www.w3.org/2000/svg\" height=\"24px\"viewBox=\"0 0 24 24\"\n",
              "       width=\"24px\">\n",
              "    <path d=\"M0 0h24v24H0V0z\" fill=\"none\"/>\n",
              "    <path d=\"M18.56 5.44l.94 2.06.94-2.06 2.06-.94-2.06-.94-.94-2.06-.94 2.06-2.06.94zm-11 1L8.5 8.5l.94-2.06 2.06-.94-2.06-.94L8.5 2.5l-.94 2.06-2.06.94zm10 10l.94 2.06.94-2.06 2.06-.94-2.06-.94-.94-2.06-.94 2.06-2.06.94z\"/><path d=\"M17.41 7.96l-1.37-1.37c-.4-.4-.92-.59-1.43-.59-.52 0-1.04.2-1.43.59L10.3 9.45l-7.72 7.72c-.78.78-.78 2.05 0 2.83L4 21.41c.39.39.9.59 1.41.59.51 0 1.02-.2 1.41-.59l7.78-7.78 2.81-2.81c.8-.78.8-2.07 0-2.86zM5.41 20L4 18.59l7.72-7.72 1.47 1.35L5.41 20z\"/>\n",
              "  </svg>\n",
              "      </button>\n",
              "      \n",
              "  <style>\n",
              "    .colab-df-container {\n",
              "      display:flex;\n",
              "      flex-wrap:wrap;\n",
              "      gap: 12px;\n",
              "    }\n",
              "\n",
              "    .colab-df-convert {\n",
              "      background-color: #E8F0FE;\n",
              "      border: none;\n",
              "      border-radius: 50%;\n",
              "      cursor: pointer;\n",
              "      display: none;\n",
              "      fill: #1967D2;\n",
              "      height: 32px;\n",
              "      padding: 0 0 0 0;\n",
              "      width: 32px;\n",
              "    }\n",
              "\n",
              "    .colab-df-convert:hover {\n",
              "      background-color: #E2EBFA;\n",
              "      box-shadow: 0px 1px 2px rgba(60, 64, 67, 0.3), 0px 1px 3px 1px rgba(60, 64, 67, 0.15);\n",
              "      fill: #174EA6;\n",
              "    }\n",
              "\n",
              "    [theme=dark] .colab-df-convert {\n",
              "      background-color: #3B4455;\n",
              "      fill: #D2E3FC;\n",
              "    }\n",
              "\n",
              "    [theme=dark] .colab-df-convert:hover {\n",
              "      background-color: #434B5C;\n",
              "      box-shadow: 0px 1px 3px 1px rgba(0, 0, 0, 0.15);\n",
              "      filter: drop-shadow(0px 1px 2px rgba(0, 0, 0, 0.3));\n",
              "      fill: #FFFFFF;\n",
              "    }\n",
              "  </style>\n",
              "\n",
              "      <script>\n",
              "        const buttonEl =\n",
              "          document.querySelector('#df-db4cd0d8-4673-489c-a022-2f20d0ed3215 button.colab-df-convert');\n",
              "        buttonEl.style.display =\n",
              "          google.colab.kernel.accessAllowed ? 'block' : 'none';\n",
              "\n",
              "        async function convertToInteractive(key) {\n",
              "          const element = document.querySelector('#df-db4cd0d8-4673-489c-a022-2f20d0ed3215');\n",
              "          const dataTable =\n",
              "            await google.colab.kernel.invokeFunction('convertToInteractive',\n",
              "                                                     [key], {});\n",
              "          if (!dataTable) return;\n",
              "\n",
              "          const docLinkHtml = 'Like what you see? Visit the ' +\n",
              "            '<a target=\"_blank\" href=https://colab.research.google.com/notebooks/data_table.ipynb>data table notebook</a>'\n",
              "            + ' to learn more about interactive tables.';\n",
              "          element.innerHTML = '';\n",
              "          dataTable['output_type'] = 'display_data';\n",
              "          await google.colab.output.renderOutput(dataTable, element);\n",
              "          const docLink = document.createElement('div');\n",
              "          docLink.innerHTML = docLinkHtml;\n",
              "          element.appendChild(docLink);\n",
              "        }\n",
              "      </script>\n",
              "    </div>\n",
              "  </div>\n",
              "  "
            ]
          },
          "metadata": {},
          "execution_count": 32
        }
      ]
    },
    {
      "cell_type": "code",
      "source": [],
      "metadata": {
        "id": "BFV6jEYHwXgo"
      },
      "execution_count": null,
      "outputs": []
    }
  ]
}