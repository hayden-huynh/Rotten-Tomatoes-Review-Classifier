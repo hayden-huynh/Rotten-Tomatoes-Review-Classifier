{
  "nbformat": 4,
  "nbformat_minor": 0,
  "metadata": {
    "colab": {
      "provenance": [],
      "mount_file_id": "1Tdr3KkQh1eHnVV-Urozb1278pv-4AeKg",
      "authorship_tag": "ABX9TyN1eDwBZsI3UsL/IjVyyJZF",
      "include_colab_link": true
    },
    "kernelspec": {
      "name": "python3",
      "display_name": "Python 3"
    },
    "language_info": {
      "name": "python"
    },
    "gpuClass": "standard"
  },
  "cells": [
    {
      "cell_type": "markdown",
      "metadata": {
        "id": "view-in-github",
        "colab_type": "text"
      },
      "source": [
        "<a href=\"https://colab.research.google.com/github/hayden-huynh/Rotten-Tomatoes-Review-Classifier/blob/master/RT_Reviews_NaiveBayes_Classifier.ipynb\" target=\"_parent\"><img src=\"https://colab.research.google.com/assets/colab-badge.svg\" alt=\"Open In Colab\"/></a>"
      ]
    },
    {
      "cell_type": "markdown",
      "source": [
        "# Assignment Process"
      ],
      "metadata": {
        "id": "s0NCiDbRKgnL"
      }
    },
    {
      "cell_type": "markdown",
      "source": [
        "1. Download the Rotten Tomatoes Reviews [dataset](https://www.kaggle.com/datasets/ulrikthygepedersen/rotten-tomatoes-reviews)\n",
        "2. Text data pre-processing:\n",
        "  - Lower-casing\n",
        "  - Punctuation Removal\n",
        "  - Tokenization\n",
        "3. Split the original dataset into smaller *train* (70%), *dev* (10%), and *test* (20%) datasets\n",
        "4. Train the classifier using *train* dataset\n",
        "  - Calculate and store P(fresh) and P(rotten) priors\n",
        "  - Calculate and store likelihoods of words\n",
        "5. Improve the classifier using *dev* dataset\n",
        "  - Smoothing\n",
        "  - Float Probability vs Log Probability\n",
        "  - Stemming and Lemmatization (?)\n",
        "6. Test accuracy of the classifier using *test* dataset "
      ],
      "metadata": {
        "id": "qP5EK7aoK022"
      }
    },
    {
      "cell_type": "markdown",
      "source": [
        "# Download Dataset from Kaggle"
      ],
      "metadata": {
        "id": "ITGWYwb3Mw3n"
      }
    },
    {
      "cell_type": "code",
      "source": [
        "# Download the Rotten Tomatoes Reviews dataset from Kaggle\n",
        "# Reference 1 (Ref 1): https://www.analyticsvidhya.com/blog/2021/06/how-to-load-kaggle-datasets-directly-into-google-colab/\n",
        "\n",
        "# Ref 1 starts =====\n",
        "! pip install kaggle\n",
        "! mkdir ~/.kaggle\n",
        "! cp /content/drive/MyDrive/kaggle.json ~/.kaggle/\n",
        "! chmod 600 ~/.kaggle/kaggle.json\n",
        "! kaggle datasets download ulrikthygepedersen/rotten-tomatoes-reviews\n",
        "! unzip rotten-tomatoes-reviews.zip\n",
        "# ===== Ref 1 ends"
      ],
      "metadata": {
        "id": "GF-mv6wrLHSQ",
        "colab": {
          "base_uri": "https://localhost:8080/"
        },
        "outputId": "06c5225c-da7a-46a4-e9ec-326a817b897a"
      },
      "execution_count": 1,
      "outputs": [
        {
          "output_type": "stream",
          "name": "stdout",
          "text": [
            "Looking in indexes: https://pypi.org/simple, https://us-python.pkg.dev/colab-wheels/public/simple/\n",
            "Requirement already satisfied: kaggle in /usr/local/lib/python3.9/dist-packages (1.5.13)\n",
            "Requirement already satisfied: tqdm in /usr/local/lib/python3.9/dist-packages (from kaggle) (4.65.0)\n",
            "Requirement already satisfied: six>=1.10 in /usr/local/lib/python3.9/dist-packages (from kaggle) (1.16.0)\n",
            "Requirement already satisfied: urllib3 in /usr/local/lib/python3.9/dist-packages (from kaggle) (1.26.15)\n",
            "Requirement already satisfied: certifi in /usr/local/lib/python3.9/dist-packages (from kaggle) (2022.12.7)\n",
            "Requirement already satisfied: python-slugify in /usr/local/lib/python3.9/dist-packages (from kaggle) (8.0.1)\n",
            "Requirement already satisfied: requests in /usr/local/lib/python3.9/dist-packages (from kaggle) (2.27.1)\n",
            "Requirement already satisfied: python-dateutil in /usr/local/lib/python3.9/dist-packages (from kaggle) (2.8.2)\n",
            "Requirement already satisfied: text-unidecode>=1.3 in /usr/local/lib/python3.9/dist-packages (from python-slugify->kaggle) (1.3)\n",
            "Requirement already satisfied: idna<4,>=2.5 in /usr/local/lib/python3.9/dist-packages (from requests->kaggle) (3.4)\n",
            "Requirement already satisfied: charset-normalizer~=2.0.0 in /usr/local/lib/python3.9/dist-packages (from requests->kaggle) (2.0.12)\n",
            "Downloading rotten-tomatoes-reviews.zip to /content\n",
            " 64% 17.0M/26.5M [00:00<00:00, 57.8MB/s]\n",
            "100% 26.5M/26.5M [00:00<00:00, 74.9MB/s]\n",
            "Archive:  rotten-tomatoes-reviews.zip\n",
            "  inflating: rt_reviews.csv          \n"
          ]
        }
      ]
    },
    {
      "cell_type": "markdown",
      "source": [
        "# Text Pre-processing"
      ],
      "metadata": {
        "id": "ge7uGOzb7cyT"
      }
    },
    {
      "cell_type": "code",
      "source": [
        "# Reference 2 (Ref 2): https://www.analyticsvidhya.com/blog/2021/06/text-preprocessing-in-nlp-with-python-codes/\n",
        "import pandas as pd\n",
        "import numpy as np\n",
        "import string\n",
        "import re\n",
        "\n",
        "reviews = pd.read_csv(\"/content/rt_reviews.csv\", encoding=\"latin-1\")\n",
        "\n",
        "print(\"----- Samples -----\")\n",
        "print(reviews.head(5))\n",
        "\n",
        "print(\"\\n----- Summary -----\")\n",
        "print(reviews.describe())"
      ],
      "metadata": {
        "colab": {
          "base_uri": "https://localhost:8080/"
        },
        "id": "p6l8UQu37cF-",
        "outputId": "2560ecfb-6d6c-4b1e-8bdd-7823024b7c08"
      },
      "execution_count": 2,
      "outputs": [
        {
          "output_type": "stream",
          "name": "stdout",
          "text": [
            "----- Samples -----\n",
            "  Freshness                                             Review\n",
            "0     fresh   Manakamana doesn't answer any questions, yet ...\n",
            "1     fresh   Wilfully offensive and powered by a chest-thu...\n",
            "2    rotten   It would be difficult to imagine material mor...\n",
            "3    rotten   Despite the gusto its star brings to the role...\n",
            "4    rotten   If there was a good idea at the core of this ...\n",
            "\n",
            "----- Summary -----\n",
            "       Freshness                    Review\n",
            "count     480000                    480000\n",
            "unique         2                    339697\n",
            "top        fresh   Parental Content Review\n",
            "freq      240000                       166\n"
          ]
        }
      ]
    },
    {
      "cell_type": "code",
      "source": [
        "# Lower-case all words\n",
        "reviews[\"Review_lower\"] = reviews[\"Review\"].apply(lambda r: r.lower())\n",
        "\n",
        "# Remove Punctuations\n",
        "def remove_punctuations(text):\n",
        "  punc_free = \"\".join([char for char in text if char not in string.punctuation])\n",
        "  return punc_free\n",
        "\n",
        "reviews[\"Review_clean\"] = reviews[\"Review_lower\"].apply(lambda r: remove_punctuations(r))\n",
        "\n",
        "# Tokenizing and Removing Duplicate Words\n",
        "def tokenize(text):\n",
        "  tokens = re.split(\"\\W+\", text)\n",
        "  tokens = list(filter(None, tokens))\n",
        "  return sorted(list(set(tokens)))\n",
        "\n",
        "reviews[\"Review_tokens\"] = reviews[\"Review_clean\"].apply(lambda r: tokenize(r))\n",
        "\n",
        "reviews.sample(5)"
      ],
      "metadata": {
        "colab": {
          "base_uri": "https://localhost:8080/",
          "height": 333
        },
        "id": "jmmTfKN08SXA",
        "outputId": "ee5848e0-9835-4dbf-b55d-12d607f363ea"
      },
      "execution_count": 3,
      "outputs": [
        {
          "output_type": "execute_result",
          "data": {
            "text/plain": [
              "       Freshness                                             Review  \\\n",
              "157184    rotten   Although it is an awesome technical feat, the...   \n",
              "174720    rotten   [W]hile the film offers silly fun for a while...   \n",
              "287481     fresh   Birth of a Nation wants to reinforce while th...   \n",
              "637       rotten   21 and Over is pretty much for people with an...   \n",
              "429392     fresh   Fast Five boasts incredible action scenes tha...   \n",
              "\n",
              "                                             Review_lower  \\\n",
              "157184   although it is an awesome technical feat, the...   \n",
              "174720   [w]hile the film offers silly fun for a while...   \n",
              "287481   birth of a nation wants to reinforce while th...   \n",
              "637      21 and over is pretty much for people with an...   \n",
              "429392   fast five boasts incredible action scenes tha...   \n",
              "\n",
              "                                             Review_clean  \\\n",
              "157184   although it is an awesome technical feat the ...   \n",
              "174720   while the film offers silly fun for a while i...   \n",
              "287481   birth of a nation wants to reinforce while th...   \n",
              "637      21 and over is pretty much for people with an...   \n",
              "429392   fast five boasts incredible action scenes tha...   \n",
              "\n",
              "                                            Review_tokens  \n",
              "157184  [a, although, an, awesome, be, before, clever,...  \n",
              "174720  [a, and, become, film, for, fun, its, offers, ...  \n",
              "287481  [a, and, birth, black, bones, disenfranchised,...  \n",
              "637     [21, an, and, for, iq, is, much, of, over, peo...  \n",
              "429392  [a, action, all, and, are, as, boasts, breeze,...  "
            ],
            "text/html": [
              "\n",
              "  <div id=\"df-35741e39-2012-475f-bf4c-96caae78209a\">\n",
              "    <div class=\"colab-df-container\">\n",
              "      <div>\n",
              "<style scoped>\n",
              "    .dataframe tbody tr th:only-of-type {\n",
              "        vertical-align: middle;\n",
              "    }\n",
              "\n",
              "    .dataframe tbody tr th {\n",
              "        vertical-align: top;\n",
              "    }\n",
              "\n",
              "    .dataframe thead th {\n",
              "        text-align: right;\n",
              "    }\n",
              "</style>\n",
              "<table border=\"1\" class=\"dataframe\">\n",
              "  <thead>\n",
              "    <tr style=\"text-align: right;\">\n",
              "      <th></th>\n",
              "      <th>Freshness</th>\n",
              "      <th>Review</th>\n",
              "      <th>Review_lower</th>\n",
              "      <th>Review_clean</th>\n",
              "      <th>Review_tokens</th>\n",
              "    </tr>\n",
              "  </thead>\n",
              "  <tbody>\n",
              "    <tr>\n",
              "      <th>157184</th>\n",
              "      <td>rotten</td>\n",
              "      <td>Although it is an awesome technical feat, the...</td>\n",
              "      <td>although it is an awesome technical feat, the...</td>\n",
              "      <td>although it is an awesome technical feat the ...</td>\n",
              "      <td>[a, although, an, awesome, be, before, clever,...</td>\n",
              "    </tr>\n",
              "    <tr>\n",
              "      <th>174720</th>\n",
              "      <td>rotten</td>\n",
              "      <td>[W]hile the film offers silly fun for a while...</td>\n",
              "      <td>[w]hile the film offers silly fun for a while...</td>\n",
              "      <td>while the film offers silly fun for a while i...</td>\n",
              "      <td>[a, and, become, film, for, fun, its, offers, ...</td>\n",
              "    </tr>\n",
              "    <tr>\n",
              "      <th>287481</th>\n",
              "      <td>fresh</td>\n",
              "      <td>Birth of a Nation wants to reinforce while th...</td>\n",
              "      <td>birth of a nation wants to reinforce while th...</td>\n",
              "      <td>birth of a nation wants to reinforce while th...</td>\n",
              "      <td>[a, and, birth, black, bones, disenfranchised,...</td>\n",
              "    </tr>\n",
              "    <tr>\n",
              "      <th>637</th>\n",
              "      <td>rotten</td>\n",
              "      <td>21 and Over is pretty much for people with an...</td>\n",
              "      <td>21 and over is pretty much for people with an...</td>\n",
              "      <td>21 and over is pretty much for people with an...</td>\n",
              "      <td>[21, an, and, for, iq, is, much, of, over, peo...</td>\n",
              "    </tr>\n",
              "    <tr>\n",
              "      <th>429392</th>\n",
              "      <td>fresh</td>\n",
              "      <td>Fast Five boasts incredible action scenes tha...</td>\n",
              "      <td>fast five boasts incredible action scenes tha...</td>\n",
              "      <td>fast five boasts incredible action scenes tha...</td>\n",
              "      <td>[a, action, all, and, are, as, boasts, breeze,...</td>\n",
              "    </tr>\n",
              "  </tbody>\n",
              "</table>\n",
              "</div>\n",
              "      <button class=\"colab-df-convert\" onclick=\"convertToInteractive('df-35741e39-2012-475f-bf4c-96caae78209a')\"\n",
              "              title=\"Convert this dataframe to an interactive table.\"\n",
              "              style=\"display:none;\">\n",
              "        \n",
              "  <svg xmlns=\"http://www.w3.org/2000/svg\" height=\"24px\"viewBox=\"0 0 24 24\"\n",
              "       width=\"24px\">\n",
              "    <path d=\"M0 0h24v24H0V0z\" fill=\"none\"/>\n",
              "    <path d=\"M18.56 5.44l.94 2.06.94-2.06 2.06-.94-2.06-.94-.94-2.06-.94 2.06-2.06.94zm-11 1L8.5 8.5l.94-2.06 2.06-.94-2.06-.94L8.5 2.5l-.94 2.06-2.06.94zm10 10l.94 2.06.94-2.06 2.06-.94-2.06-.94-.94-2.06-.94 2.06-2.06.94z\"/><path d=\"M17.41 7.96l-1.37-1.37c-.4-.4-.92-.59-1.43-.59-.52 0-1.04.2-1.43.59L10.3 9.45l-7.72 7.72c-.78.78-.78 2.05 0 2.83L4 21.41c.39.39.9.59 1.41.59.51 0 1.02-.2 1.41-.59l7.78-7.78 2.81-2.81c.8-.78.8-2.07 0-2.86zM5.41 20L4 18.59l7.72-7.72 1.47 1.35L5.41 20z\"/>\n",
              "  </svg>\n",
              "      </button>\n",
              "      \n",
              "  <style>\n",
              "    .colab-df-container {\n",
              "      display:flex;\n",
              "      flex-wrap:wrap;\n",
              "      gap: 12px;\n",
              "    }\n",
              "\n",
              "    .colab-df-convert {\n",
              "      background-color: #E8F0FE;\n",
              "      border: none;\n",
              "      border-radius: 50%;\n",
              "      cursor: pointer;\n",
              "      display: none;\n",
              "      fill: #1967D2;\n",
              "      height: 32px;\n",
              "      padding: 0 0 0 0;\n",
              "      width: 32px;\n",
              "    }\n",
              "\n",
              "    .colab-df-convert:hover {\n",
              "      background-color: #E2EBFA;\n",
              "      box-shadow: 0px 1px 2px rgba(60, 64, 67, 0.3), 0px 1px 3px 1px rgba(60, 64, 67, 0.15);\n",
              "      fill: #174EA6;\n",
              "    }\n",
              "\n",
              "    [theme=dark] .colab-df-convert {\n",
              "      background-color: #3B4455;\n",
              "      fill: #D2E3FC;\n",
              "    }\n",
              "\n",
              "    [theme=dark] .colab-df-convert:hover {\n",
              "      background-color: #434B5C;\n",
              "      box-shadow: 0px 1px 3px 1px rgba(0, 0, 0, 0.15);\n",
              "      filter: drop-shadow(0px 1px 2px rgba(0, 0, 0, 0.3));\n",
              "      fill: #FFFFFF;\n",
              "    }\n",
              "  </style>\n",
              "\n",
              "      <script>\n",
              "        const buttonEl =\n",
              "          document.querySelector('#df-35741e39-2012-475f-bf4c-96caae78209a button.colab-df-convert');\n",
              "        buttonEl.style.display =\n",
              "          google.colab.kernel.accessAllowed ? 'block' : 'none';\n",
              "\n",
              "        async function convertToInteractive(key) {\n",
              "          const element = document.querySelector('#df-35741e39-2012-475f-bf4c-96caae78209a');\n",
              "          const dataTable =\n",
              "            await google.colab.kernel.invokeFunction('convertToInteractive',\n",
              "                                                     [key], {});\n",
              "          if (!dataTable) return;\n",
              "\n",
              "          const docLinkHtml = 'Like what you see? Visit the ' +\n",
              "            '<a target=\"_blank\" href=https://colab.research.google.com/notebooks/data_table.ipynb>data table notebook</a>'\n",
              "            + ' to learn more about interactive tables.';\n",
              "          element.innerHTML = '';\n",
              "          dataTable['output_type'] = 'display_data';\n",
              "          await google.colab.output.renderOutput(dataTable, element);\n",
              "          const docLink = document.createElement('div');\n",
              "          docLink.innerHTML = docLinkHtml;\n",
              "          element.appendChild(docLink);\n",
              "        }\n",
              "      </script>\n",
              "    </div>\n",
              "  </div>\n",
              "  "
            ]
          },
          "metadata": {},
          "execution_count": 3
        }
      ]
    },
    {
      "cell_type": "markdown",
      "source": [
        "# Split the Original Dataset"
      ],
      "metadata": {
        "id": "mYMdGlcqM2xb"
      }
    },
    {
      "cell_type": "code",
      "source": [
        "# Reference 3 (Ref 3): https://stackoverflow.com/questions/43777243/how-to-split-a-dataframe-in-pandas-in-predefined-percentages \n",
        "\n",
        "# Ref 3 starts =====\n",
        "def split_by_fractions(df, fracs, random_state=0):\n",
        "    remain = df.index.copy().to_frame()\n",
        "    res = []\n",
        "    for i in range(len(fracs)):\n",
        "        fractions_sum = sum(fracs[i:])\n",
        "        frac = fracs[i]/fractions_sum\n",
        "        idxs = remain.sample(frac=frac, random_state=random_state).index\n",
        "        remain=remain.drop(idxs)\n",
        "        res.append(idxs)\n",
        "    return [df.loc[idxs] for idxs in res]\n",
        "# Ref 3 ends =====\n",
        "\n",
        "random_state = 1\n",
        "train, dev, test = split_by_fractions(reviews, [0.7, 0.1, 0.2], random_state)\n",
        "print(train.shape, dev.shape, test.shape)"
      ],
      "metadata": {
        "colab": {
          "base_uri": "https://localhost:8080/"
        },
        "id": "2zt9wPa0NELt",
        "outputId": "b8864444-f87b-4d09-ff93-49d2c9a13739"
      },
      "execution_count": 133,
      "outputs": [
        {
          "output_type": "stream",
          "name": "stdout",
          "text": [
            "(336000, 5) (48000, 5) (96000, 5)\n"
          ]
        }
      ]
    },
    {
      "cell_type": "markdown",
      "source": [
        "# Training"
      ],
      "metadata": {
        "id": "Ae1dhZ5fv1xa"
      }
    },
    {
      "cell_type": "code",
      "source": [
        "from decimal import Decimal\n",
        "\n",
        "train_fresh = train.loc[train[\"Freshness\"] == \"fresh\"]\n",
        "train_rotten = train.loc[train[\"Freshness\"] == \"rotten\"]\n",
        "\n",
        "# P(fresh) and P(rotten) priors\n",
        "p_fresh = Decimal(len(train_fresh) / len(train))\n",
        "p_rotten = Decimal(len(train_rotten) / len(train))\n",
        "\n",
        "print(f'P(fresh) = {p_fresh}')\n",
        "print(f'P(rotten) = {p_rotten}')"
      ],
      "metadata": {
        "id": "JOz9w1SrOt8I",
        "colab": {
          "base_uri": "https://localhost:8080/"
        },
        "outputId": "3e6d918b-907b-465e-9212-e675ae2c82ab"
      },
      "execution_count": 134,
      "outputs": [
        {
          "output_type": "stream",
          "name": "stdout",
          "text": [
            "P(fresh) = 0.50085119047619042209618100969237275421619415283203125\n",
            "P(rotten) = 0.499148809523809522392667759049800224602222442626953125\n"
          ]
        }
      ]
    },
    {
      "cell_type": "code",
      "source": [
        "# Count word occurences\n",
        "occ_fresh = {}\n",
        "occ_rotten = {}\n",
        "\n",
        "for words in train_fresh.loc[:,\"Review_tokens\"]:\n",
        "  for w in words:\n",
        "    if w not in occ_fresh.keys():\n",
        "      occ_fresh[w] = 1\n",
        "    else:\n",
        "      occ_fresh[w] += 1\n",
        "\n",
        "for words in train_rotten.loc[:,\"Review_tokens\"]:\n",
        "  for w in words:\n",
        "    if w not in occ_rotten.keys():\n",
        "      occ_rotten[w] = 1\n",
        "    else:\n",
        "      occ_rotten[w] += 1"
      ],
      "metadata": {
        "id": "PmvgE_Gv2DDf"
      },
      "execution_count": 135,
      "outputs": []
    },
    {
      "cell_type": "code",
      "source": [
        "# Calculate word probabilities given fresh or rotten\n",
        "probs_fresh = {}\n",
        "probs_rotten = {}\n",
        "\n",
        "def calc_word_likelihood(count, alpha, h):\n",
        "  if h == \"fresh\":\n",
        "    return Decimal((count + alpha) / (len(train_fresh) + alpha * len(occ_fresh)))\n",
        "  elif h == \"rotten\":\n",
        "    return Decimal((count + alpha) / (len(train_rotten) + alpha * len(occ_rotten)))\n",
        "\n",
        "def calc_prob(alpha=0):\n",
        "  for word, count in occ_fresh.items():\n",
        "    probs_fresh[word] = calc_word_likelihood(count, alpha, \"fresh\")\n",
        "  \n",
        "  for word, count in occ_rotten.items():\n",
        "    probs_rotten[word] = calc_word_likelihood(count, alpha, \"rotten\")\n",
        "\n",
        "alpha = 10\n",
        "\n",
        "calc_prob(alpha)"
      ],
      "metadata": {
        "id": "NlZEAjmw9Gg7"
      },
      "execution_count": 166,
      "outputs": []
    },
    {
      "cell_type": "markdown",
      "source": [
        "# Experimenting with *dev* dataset"
      ],
      "metadata": {
        "id": "OO9Y1-kVRHz2"
      }
    },
    {
      "cell_type": "code",
      "source": [
        "import csv\n",
        "import os\n",
        "\n",
        "# Function to classify a review\n",
        "def classify(review_words, alpha):\n",
        "  for w in review_words:\n",
        "    if w not in probs_fresh.keys():\n",
        "      probs_fresh[w] = calc_word_likelihood(0, alpha, \"fresh\")\n",
        "    if w not in probs_rotten.keys():\n",
        "      probs_rotten[w] = calc_word_likelihood(0, alpha, \"rotten\")\n",
        "  \n",
        "  chance_fresh = p_fresh\n",
        "  chance_rotten = p_rotten\n",
        "  for w in review_words:\n",
        "    chance_fresh = chance_fresh * probs_fresh[w]\n",
        "    chance_rotten = chance_rotten * probs_rotten[w]\n",
        "  \n",
        "  if chance_fresh > chance_rotten:\n",
        "    return \"fresh\"\n",
        "  else:\n",
        "    return \"rotten\"\n",
        "\n",
        "\n",
        "# Function to classify a review, log10 applied to avoid underflowing floats\n",
        "def classify_log(review_words, alpha):\n",
        "  for w in review_words:\n",
        "    if w not in probs_fresh.keys():\n",
        "      probs_fresh[w] = calc_word_likelihood(0, alpha, \"fresh\")\n",
        "    if w not in probs_rotten.keys():\n",
        "      probs_rotten[w] = calc_word_likelihood(0, alpha, \"rotten\")\n",
        "\n",
        "  chance_fresh = p_fresh.log10()\n",
        "  chance_rotten = p_rotten.log10()\n",
        "  for w in review_words:\n",
        "    chance_fresh = chance_fresh + probs_fresh[w].log10()\n",
        "    chance_rotten = chance_rotten + probs_rotten[w].log10()\n",
        "\n",
        "  if chance_fresh > chance_rotten:\n",
        "    return \"fresh\"\n",
        "  else:\n",
        "    return \"rotten\"\n",
        "\n",
        "\n",
        "# Function to test entire dataset given\n",
        "def test_accuracy(dataset, alpha, use_log=False, csv_writer=None):\n",
        "  correct = 0\n",
        "  for index, row in dataset.loc[:,[\"Freshness\", \"Review_tokens\"]].iterrows():\n",
        "    result = \"\"\n",
        "    if use_log:\n",
        "      result = classify_log(row[\"Review_tokens\"], alpha)\n",
        "    else:\n",
        "      result = classify(row[\"Review_tokens\"], alpha)\n",
        "    if row[\"Freshness\"] == result:\n",
        "      correct += 1\n",
        "  accuracy = round(correct / len(dataset) * 100, 4)\n",
        "  csv_writer.writerow([alpha, accuracy])\n",
        "  print(f\"Successfully classified {correct}/{len(dataset)} ({accuracy}%) correctly\")\n",
        "\n",
        "\n",
        "\n",
        "# Experiment with Smoothing\n",
        "\n",
        "dev_smoothing = open(f\"dev_smoothing_log.csv\", \"a\", newline='')\n",
        "dev_smoothing_writer = csv.writer(dev_smoothing)\n",
        "if (os.path.getsize(f\"/content/dev_smoothing_log.csv\") == 0):\n",
        "  dev_smoothing_writer.writerow([\"alpha\", \"accuracy\"])\n",
        "\n",
        "test_accuracy(dev, alpha, use_log=True, csv_writer=dev_smoothing_writer)\n",
        "dev_smoothing.flush()"
      ],
      "metadata": {
        "id": "owvJOQIdD_h6",
        "colab": {
          "base_uri": "https://localhost:8080/"
        },
        "outputId": "0e7f44b6-29fc-44e5-bd1e-3007a1bfd370"
      },
      "execution_count": 167,
      "outputs": [
        {
          "output_type": "stream",
          "name": "stdout",
          "text": [
            "Successfully classified 38044/48000 (79.2583%) correctly\n"
          ]
        }
      ]
    },
    {
      "cell_type": "markdown",
      "source": [
        "# Final Accuracy with *test* dataset"
      ],
      "metadata": {
        "id": "xAHkH4UiRVzk"
      }
    },
    {
      "cell_type": "code",
      "source": [
        "# test_accuracy(test, alpha)"
      ],
      "metadata": {
        "id": "YbeR39pwRZR8"
      },
      "execution_count": 168,
      "outputs": []
    }
  ]
}